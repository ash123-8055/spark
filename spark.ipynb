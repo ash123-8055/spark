{
 "cells": [
  {
   "cell_type": "markdown",
   "metadata": {},
   "source": [
    "<h2>Creating a Spark object</h2>"
   ]
  },
  {
   "cell_type": "code",
   "execution_count": 4,
   "metadata": {},
   "outputs": [],
   "source": [
    "from pyspark.sql import SparkSession\n",
    "from pyspark.sql.functions import explode, split\n",
    "\n",
    "spark = SparkSession.builder.appName(\"Word\").getOrCreate()\n"
   ]
  },
  {
   "cell_type": "markdown",
   "metadata": {},
   "source": [
    "Word Count Program on .txt file."
   ]
  },
  {
   "cell_type": "code",
   "execution_count": 6,
   "metadata": {},
   "outputs": [
    {
     "name": "stdout",
     "output_type": "stream",
     "text": [
      "+-----------+-----+\n",
      "|       word|count|\n",
      "+-----------+-----+\n",
      "|        for|    1|\n",
      "|     world!|    1|\n",
      "|      great|    1|\n",
      "|         is|    2|\n",
      "|       data|    1|\n",
      "|processing.|    1|\n",
      "|      Hello|    2|\n",
      "|       This|    1|\n",
      "|      Spark|    2|\n",
      "|          a|    1|\n",
      "|       test|    1|\n",
      "|      file.|    1|\n",
      "|     users!|    1|\n",
      "|        big|    1|\n",
      "+-----------+-----+\n",
      "\n"
     ]
    }
   ],
   "source": [
    "input_file=r\"hdfs://localhost:9000/user/hadoop/input/sample.txt\"\n",
    "df=spark.read.text(input_file)\n",
    "word_count = (df.select(explode(split(df.value, \" \")).alias(\"word\")).groupBy(\"word\").count())\n",
    "word_count.show()"
   ]
  },
  {
   "cell_type": "markdown",
   "metadata": {},
   "source": [
    "Word Count Program on .json file."
   ]
  },
  {
   "cell_type": "code",
   "execution_count": null,
   "metadata": {},
   "outputs": [
    {
     "ename": "NameError",
     "evalue": "name 'spark' is not defined",
     "output_type": "error",
     "traceback": [
      "\u001b[1;31m---------------------------------------------------------------------------\u001b[0m",
      "\u001b[1;31mNameError\u001b[0m                                 Traceback (most recent call last)",
      "Cell \u001b[1;32mIn[1], line 2\u001b[0m\n\u001b[0;32m      1\u001b[0m input_file\u001b[38;5;241m=\u001b[39m\u001b[38;5;124mr\u001b[39m\u001b[38;5;124m\"\u001b[39m\u001b[38;5;124mhdfs://localhost:9000/user/hadoop/input/sample.json\u001b[39m\u001b[38;5;124m\"\u001b[39m\n\u001b[1;32m----> 2\u001b[0m df\u001b[38;5;241m=\u001b[39m\u001b[43mspark\u001b[49m\u001b[38;5;241m.\u001b[39mread\u001b[38;5;241m.\u001b[39mjson(input_file)\n\u001b[0;32m      3\u001b[0m word_count\u001b[38;5;241m=\u001b[39m(df\u001b[38;5;241m.\u001b[39mselect(explode(split(df[\u001b[38;5;124m\"\u001b[39m\u001b[38;5;124mcontent\u001b[39m\u001b[38;5;124m\"\u001b[39m], \u001b[38;5;124m\"\u001b[39m\u001b[38;5;124m \u001b[39m\u001b[38;5;124m\"\u001b[39m))\u001b[38;5;241m.\u001b[39malias(\u001b[38;5;124m\"\u001b[39m\u001b[38;5;124mword\u001b[39m\u001b[38;5;124m\"\u001b[39m))\u001b[38;5;241m.\u001b[39mgroupby(\u001b[38;5;124m\"\u001b[39m\u001b[38;5;124mword\u001b[39m\u001b[38;5;124m\"\u001b[39m)\u001b[38;5;241m.\u001b[39mcount())\n\u001b[0;32m      4\u001b[0m word_count\u001b[38;5;241m.\u001b[39mshow()\n",
      "\u001b[1;31mNameError\u001b[0m: name 'spark' is not defined"
     ]
    }
   ],
   "source": [
    "input_file=r\"hdfs://localhost:9000/user/hadoop/input/sample.json\"\n",
    "df=spark.read.json(input_file)\n",
    "word_count=(df.select(explode(split(df[\"content\"], \" \")).alias(\"word\")).groupby(\"word\").count())\n",
    "word_count.show()"
   ]
  },
  {
   "cell_type": "markdown",
   "metadata": {},
   "source": [
    "Word Count Program on .csv file."
   ]
  },
  {
   "cell_type": "code",
   "execution_count": null,
   "metadata": {},
   "outputs": [
    {
     "name": "stdout",
     "output_type": "stream",
     "text": [
      "+-----------+-----+\n",
      "|       word|count|\n",
      "+-----------+-----+\n",
      "|        for|    1|\n",
      "|     world!|    1|\n",
      "|      great|    1|\n",
      "|         is|    2|\n",
      "|       data|    1|\n",
      "|processing.|    1|\n",
      "|      Hello|    2|\n",
      "|       This|    1|\n",
      "|      Spark|    2|\n",
      "|          a|    1|\n",
      "|       test|    1|\n",
      "|      file.|    1|\n",
      "|     users!|    1|\n",
      "|        big|    1|\n",
      "+-----------+-----+\n",
      "\n"
     ]
    }
   ],
   "source": [
    "input_file=r\"hdfs://localhost:9000/user/hadoop/input/sample.csv\"\n",
    "df=spark.read.csv(input_file,header=True,inferSchema=True)\n",
    "word_count = (df.select(explode(split(df[\"text\"], \" \")).alias(\"word\")).groupBy(\"word\").count())\n",
    "word_count.show()"
   ]
  }
 ],
 "metadata": {
  "kernelspec": {
   "display_name": "Python 3",
   "language": "python",
   "name": "python3"
  },
  "language_info": {
   "codemirror_mode": {
    "name": "ipython",
    "version": 3
   },
   "file_extension": ".py",
   "mimetype": "text/x-python",
   "name": "python",
   "nbconvert_exporter": "python",
   "pygments_lexer": "ipython3",
   "version": "3.12.4"
  }
 },
 "nbformat": 4,
 "nbformat_minor": 2
}
